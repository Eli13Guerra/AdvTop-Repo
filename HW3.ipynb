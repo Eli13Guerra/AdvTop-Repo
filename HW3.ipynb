{
 "cells": [
  {
   "cell_type": "code",
   "execution_count": 1,
   "id": "b3d9dab9",
   "metadata": {},
   "outputs": [
    {
     "name": "stdout",
     "output_type": "stream",
     "text": [
      "Question a\n",
      "a= [1, 0, -1]\n",
      "b= [1, 1.4142135623730951, 1]\n",
      "c= [1, -1.4142135623730951, 1]\n",
      "dot(a,b)= 0.0\n",
      "dot(a,c)= 0.0\n",
      "dot(b,c)= -0.0\n",
      "The vector are orthogonal to each other\n"
     ]
    }
   ],
   "source": [
    "import numpy as np\n",
    "from numpy import inf\n",
    "from numpy.linalg import norm\n",
    "print(\"Question a\")\n",
    "a=[1,0,-1]\n",
    "b=[1,2**0.5,1]\n",
    "c=[1,-2**0.5,1]\n",
    "print(\"a=\",a)\n",
    "print(\"b=\",b)\n",
    "print(\"c=\",c)\n",
    "print(\"dot(a,b)=\",np.dot(a,b))\n",
    "print(\"dot(a,c)=\",np.dot(a,c))\n",
    "print(\"dot(b,c)=\",np.round(np.dot(b,c),1))\n",
    "print(\"The vector are orthogonal to each other\")"
   ]
  },
  {
   "cell_type": "code",
   "execution_count": 2,
   "id": "3510fbb9",
   "metadata": {},
   "outputs": [
    {
     "name": "stdout",
     "output_type": "stream",
     "text": [
      "The norm of the vectors is [|a|,|b|,|c|]L1= [2.0, 3.4142, 3.4142]\n",
      "The norm of the vectors is [|a|,|b|,|c|]L2= [1.4142, 2.0, 2.0]\n",
      "The norm of the vectors is [|a|,|b|,|c|]L_inf= [1.0, 1.4142, 1.4142]\n"
     ]
    }
   ],
   "source": [
    "L1 = [round(norm(a,1),4),round(norm(b,1),4),round(norm(c,1),4)]\n",
    "L2 = [round(norm(a),4),round(norm(b),4),round(norm(c),4)]\n",
    "Linf = [round(norm(a, inf),4),round(norm(b, inf),4),round(norm(c, inf),4)]\n",
    "print(\"The norm of the vectors is [|a|,|b|,|c|]L1=\",L1)\n",
    "print(\"The norm of the vectors is [|a|,|b|,|c|]L2=\",L2)\n",
    "print(\"The norm of the vectors is [|a|,|b|,|c|]L_inf=\",Linf)"
   ]
  },
  {
   "cell_type": "code",
   "execution_count": 3,
   "id": "6fb82a0d",
   "metadata": {},
   "outputs": [
    {
     "name": "stdout",
     "output_type": "stream",
     "text": [
      "Question b\n",
      "A= [1, 0, 0]\n",
      "B= [0, 1, 0]\n",
      "C= [0, 0, 1]\n",
      "dot(a,b)= 0.0\n",
      "dot(a,c)= 0.0\n",
      "dot(b,c)= -0.0\n",
      "The vector are orthogonal to each other and have norm 1\n"
     ]
    }
   ],
   "source": [
    "print('Question b')\n",
    "A = [1,0,0]\n",
    "B = [0,1,0]\n",
    "C = [0,0,1]\n",
    "print(\"A=\",A)\n",
    "print(\"B=\",B)\n",
    "print(\"C=\",C)\n",
    "print(\"dot(a,b)=\",np.dot(a,b))\n",
    "print(\"dot(a,c)=\",np.dot(a,c))\n",
    "print(\"dot(b,c)=\",round(np.dot(b,c),1))\n",
    "print(\"The vector are orthogonal to each other and have norm 1\")"
   ]
  },
  {
   "cell_type": "code",
   "execution_count": 4,
   "id": "5617a4f5",
   "metadata": {},
   "outputs": [
    {
     "name": "stdout",
     "output_type": "stream",
     "text": [
      "The norm of the vectors is [|A|,|B|,|C|]L1= [1.0, 1.0, 1.0]\n",
      "The norm of the vectors is [|A|,|B|,|C|]L2= [1.0, 1.0, 1.0]\n",
      "The norm of the vectors is [|A|,|B|,|C|]L_inf= [1.0, 1.0, 1.0]\n"
     ]
    }
   ],
   "source": [
    "L1 = [round(norm(A,1),4),round(norm(B,1),4),round(norm(C,1),4)]\n",
    "L2 = [round(norm(A),4),round(norm(B),4),round(norm(C),4)]\n",
    "Linf = [round(norm(A, inf),4),round(norm(C, inf),4),round(norm(C, inf),4)]\n",
    "print(\"The norm of the vectors is [|A|,|B|,|C|]L1=\",L1)\n",
    "print(\"The norm of the vectors is [|A|,|B|,|C|]L2=\",L2)\n",
    "print(\"The norm of the vectors is [|A|,|B|,|C|]L_inf=\",Linf)"
   ]
  },
  {
   "cell_type": "code",
   "execution_count": 5,
   "id": "3030105d",
   "metadata": {},
   "outputs": [
    {
     "name": "stdout",
     "output_type": "stream",
     "text": [
      "Question c\n",
      "v1= [4 9] v2= [8 6]\n"
     ]
    }
   ],
   "source": [
    "print('Question c')\n",
    "v2 = np.array([8,6])\n",
    "v1 = np.array([4,9])\n",
    "print(\"v1=\",v1,\"v2=\",v2)"
   ]
  },
  {
   "cell_type": "code",
   "execution_count": 6,
   "id": "ccd88ff2",
   "metadata": {},
   "outputs": [
    {
     "data": {
      "image/png": "[encoded data removed]",
      "text/plain": [
       "<Figure size 640x480 with 1 Axes>"
      ]
     },
     "metadata": {},
     "output_type": "display_data"
    }
   ],
   "source": [
    "import matplotlib.pyplot as plt\n",
    "\n",
    "prj = np.dot(v1, v2)/np.linalg.norm(v2)\n",
    "unit_p = v2/np.linalg.norm(v2)\n",
    "vp = unit_p*prj\n",
    "end_vec = vp-v1\n",
    "\n",
    "plt.quiver(0, 0, v1[0], v1[1], angles='xy', scale_units='xy', scale=1, color='r')\n",
    "plt.quiver(0, 0, v2[0], v2[1], angles='xy', scale_units='xy', scale=1, color='g')\n",
    "\n",
    "plt.quiver(v1[0], v1[1], end_vec[0], end_vec[1] , angles='xy', scale_units='xy', scale=1, color='k')\n",
    "\n",
    "plt.xlabel('X')\n",
    "plt.ylabel('Y')\n",
    "plt.xlim (0,10)\n",
    "plt.ylim (0,10)\n",
    "ax = plt.gca()\n",
    "ax.set_aspect('equal', adjustable='box')\n",
    "ax.legend(['v1','v2','prj'])\n",
    "plt.grid()\n",
    "plt.draw()\n"
   ]
  },
  {
   "cell_type": "code",
   "execution_count": 7,
   "id": "520ff7aa",
   "metadata": {},
   "outputs": [
    {
     "name": "stdout",
     "output_type": "stream",
     "text": [
      "Question d\n",
      "Matrix T1=\n",
      " [[1 1 1]\n",
      " [7 1 1]\n",
      " [4 6 1]]\n",
      "The area is 0.5*det(T1)= 15.0\n",
      "Matrix T2=\n",
      " [[1 1 1]\n",
      " [7 1 1]\n",
      " [4 1 6]]\n",
      "The area is 0.5*det(T2)= -15.0\n",
      "|Area of T1|+|Area of T2|= 30.0\n",
      "It can be done by replacing a point in the last triangle and calculating the abs of the determinant. Then calculate the sum of the n number of triangles and divide the output by 2 to get the area formed by the succession of triangles\n"
     ]
    }
   ],
   "source": [
    "print('Question d')\n",
    "#I'm using a simple 3D isosceles triangle to check if the code works properly. The area must be 15\n",
    "T1 = np.array([[1,1,1],[7,1,1],[4,6,1]])\n",
    "print('Matrix T1=\\n',T1)\n",
    "#For this none of the points should be the origin, otherwise the determinant becomes zero\n",
    "A_1=round(0.5*np.linalg.det(T1),2)\n",
    "print('The area is 0.5*det(T1)=',A_1)\n",
    "T2 = np.array([[1,1,1],[7,1,1],[4,1,6]])\n",
    "print('Matrix T2=\\n',T2)\n",
    "A_2=round(0.5*np.linalg.det(T2),2)\n",
    "print('The area is 0.5*det(T2)=',A_2)\n",
    "#The area in this case is negative because of the orientation of the triangle, therefore, the absolute value is used for the calculations.\n",
    "print('|Area of T1|+|Area of T2|=',abs(A_1)+abs(A_2))\n",
    "\n",
    "print('It can be done by replacing a point in the last triangle and calculating the abs of the determinant. Then calculate the sum of the n number of triangles and divide the output by 2 to get the area formed by the succession of triangles')"
   ]
  },
  {
   "cell_type": "code",
   "execution_count": 8,
   "id": "f092be52",
   "metadata": {},
   "outputs": [
    {
     "name": "stdout",
     "output_type": "stream",
     "text": [
      "Question e\n",
      "5x+9y=200\n",
      "8x+7y=120\n",
      "x [5 9] = [200] \n",
      "y [8 7] = [120]\n"
     ]
    }
   ],
   "source": [
    "print('Question e')\n",
    "print('5x+9y=200')\n",
    "print('8x+7y=120')\n",
    "M = np.array([[5, 9], [8, 7]])\n",
    "N = np.array([[200], [120]])\n",
    "print(\"x\",M[0,:],\"=\",N[0],\"\\ny\",M[1,:],\"=\",N[1])"
   ]
  },
  {
   "cell_type": "code",
   "execution_count": 9,
   "id": "cf460c50",
   "metadata": {},
   "outputs": [
    {
     "name": "stdout",
     "output_type": "stream",
     "text": [
      "Matrix M:\n",
      " [[5 9]\n",
      " [8 7]]\n",
      "Inverse of matrix M:\n",
      " [[-0.18918919  0.24324324]\n",
      " [ 0.21621622 -0.13513514]]\n",
      "M^-1*M:\n",
      " [[1. 0.]\n",
      " [0. 1.]]\n",
      "The solution for the system of equations is M^-1*N=\n",
      "x [1, 0] = [-8.64864865] \n",
      "y [0, 1] = [27.02702703]\n"
     ]
    }
   ],
   "source": [
    "M_inv = np.linalg.inv(M)\n",
    "solution = np.dot(M_inv,N)\n",
    "print(\"Matrix M:\\n\", M)\n",
    "print(\"Inverse of matrix M:\\n\", M_inv)\n",
    "print(\"M^-1*M:\\n\", np.dot(M_inv,M))\n",
    "print(\"The solution for the system of equations is M^-1*N=\")\n",
    "print(\"x\",[1,0],\"=\",solution[0],\"\\ny\",[0,1],\"=\",solution[1])"
   ]
  },
  {
   "cell_type": "code",
   "execution_count": 10,
   "id": "ad90aacf",
   "metadata": {},
   "outputs": [
    {
     "name": "stdout",
     "output_type": "stream",
     "text": [
      "Question f\n",
      "The matrix in (x,y) coordinates are:\n",
      "Matrix V1=\n",
      " [[1]\n",
      " [2]]\n",
      "Matrix V2=\n",
      " [[-1]\n",
      " [ 3]]\n",
      "The new basis is:\n",
      "i=\n",
      " [1 1] \n",
      "j=\n",
      " [-1  1]\n"
     ]
    }
   ],
   "source": [
    "print(\"Question f\")\n",
    "V1= np.array([[1],[2]])\n",
    "V2= np.array([[-1],[3]])\n",
    "base_i = np.array([1,1])\n",
    "base_j = np.array([-1,1])\n",
    "print(\"The matrix in (x,y) coordinates are:\")\n",
    "print(\"Matrix V1=\\n\",V1)\n",
    "print(\"Matrix V2=\\n\",V2)\n",
    "print(\"The new basis is:\\ni=\\n\",base_i,\"\\nj=\\n\",base_j)\n"
   ]
  },
  {
   "cell_type": "code",
   "execution_count": 11,
   "id": "0043e222",
   "metadata": {},
   "outputs": [
    {
     "name": "stdout",
     "output_type": "stream",
     "text": [
      "Change of basis matrix=\n",
      " [[ 1  1]\n",
      " [-1  1]]\n",
      "V1 in ij basis=\n",
      " [[3]\n",
      " [1]]\n",
      "V2 in ij basis=\n",
      " [[2]\n",
      " [4]]\n"
     ]
    }
   ],
   "source": [
    "change_matrix = np.array([base_i,base_j])\n",
    "print(\"Change of basis matrix=\\n\",change_matrix)\n",
    "V1_ij= np.dot(change_matrix,V1)\n",
    "V2_ij= np.dot(change_matrix,V2)\n",
    "print(\"V1 in ij basis=\\n\",V1_ij)\n",
    "print(\"V2 in ij basis=\\n\",V2_ij)"
   ]
  },
  {
   "cell_type": "code",
   "execution_count": 12,
   "id": "0e9a3b9a",
   "metadata": {},
   "outputs": [
    {
     "name": "stdout",
     "output_type": "stream",
     "text": [
      "Change of basis of V1\n"
     ]
    },
    {
     "data": {
      "image/png": "[encoded data removed]",
      "text/plain": [
       "<Figure size 640x480 with 1 Axes>"
      ]
     },
     "metadata": {},
     "output_type": "display_data"
    }
   ],
   "source": [
    "plt.quiver(0, 0, 3*base_i[0], 3*base_i[1], angles='xy', scale_units='xy', scale=1, color='r')\n",
    "plt.quiver(0, 0, 4*base_j[0], 4*base_j[1], angles='xy', scale_units='xy', scale=1, color='g')\n",
    "\n",
    "plt.quiver(0, 0, V1[0], V1[1] , angles='xy', scale_units='xy', scale=1, color='k')\n",
    "plt.quiver(V1_ij[0,0]*base_i[0]/2, V1_ij[0,0]*base_i[1]/2, base_j[0]/2, base_j[1]/2 , angles='xy', scale_units='xy', scale=1, color='b')\n",
    "plt.quiver(base_j[0]/2, base_j[1]/2, V1_ij[0,0]*base_i[0]/2, V1_ij[0,0]*base_i[1]/2 , angles='xy', scale_units='xy', scale=1, color='b')\n",
    "\n",
    "plt.xlabel('X')\n",
    "plt.ylabel('Y')\n",
    "plt.xlim (-5,5)\n",
    "plt.ylim (-1,9)\n",
    "ax = plt.gca()\n",
    "ax.set_aspect('equal', adjustable='box')\n",
    "ax.legend(['i','j','V1'])\n",
    "plt.grid()\n",
    "print(\"Change of basis of V1\")\n",
    "plt.draw()"
   ]
  },
  {
   "cell_type": "code",
   "execution_count": 13,
   "id": "a932854b",
   "metadata": {},
   "outputs": [
    {
     "name": "stdout",
     "output_type": "stream",
     "text": [
      "Change of basis of V2\n"
     ]
    },
    {
     "data": {
      "image/png": "[encoded data removed]",
      "text/plain": [
       "<Figure size 640x480 with 1 Axes>"
      ]
     },
     "metadata": {},
     "output_type": "display_data"
    }
   ],
   "source": [
    "plt.quiver(0, 0, 3*base_i[0], 3*base_i[1], angles='xy', scale_units='xy', scale=1, color='r')\n",
    "plt.quiver(0, 0, 4*base_j[0], 4*base_j[1], angles='xy', scale_units='xy', scale=1, color='g')\n",
    "\n",
    "plt.quiver(0, 0, V2[0], V2[1] , angles='xy', scale_units='xy', scale=1, color='k')\n",
    "plt.quiver(V2_ij[0,0]*base_i[0]/2, V2_ij[0,0]*base_i[1]/2, base_j[0]*2, base_j[1]*2 , angles='xy', scale_units='xy', scale=1, color='b')\n",
    "plt.quiver(base_j[0]*2, base_j[1]*2, V2_ij[0,0]*base_i[0]/2, V2_ij[0,0]*base_i[1]/2 , angles='xy', scale_units='xy', scale=1, color='b')\n",
    "\n",
    "plt.xlabel('X')\n",
    "plt.ylabel('Y')\n",
    "plt.xlim (-5,5)\n",
    "plt.ylim (-1,9)\n",
    "ax = plt.gca()\n",
    "ax.set_aspect('equal', adjustable='box')\n",
    "ax.legend(['i','j','V2'])\n",
    "plt.grid()\n",
    "print(\"Change of basis of V2\")\n",
    "plt.draw()"
   ]
  },
  {
   "cell_type": "code",
   "execution_count": 14,
   "id": "be4a71c8",
   "metadata": {},
   "outputs": [
    {
     "name": "stdout",
     "output_type": "stream",
     "text": [
      "Question g\n",
      "Matrix A is square symmetric:\n",
      " [[ 1 -2  2]\n",
      " [-2  3  2]\n",
      " [ 2  2 -1]]\n",
      "Matrix B is square non-symmetric:\n",
      " [[ 1  2 -4]\n",
      " [-1  5  3]\n",
      " [-2  2  5]]\n",
      "Eigenvalues of A\n",
      " [-3.4286  2.0784  4.3503]\n",
      "Eigenvector of A\n",
      " [[ 0.5207  0.7392 -0.4271]\n",
      " [ 0.3971  0.2332  0.8877]\n",
      " [-0.7558  0.6318  0.1721]]\n",
      "Eigenvalues of B\n",
      " [ 7.8085 -0.5179  3.7094]\n",
      "Eigenvector of B\n",
      " [[-0.16    0.9378 -0.6744]\n",
      " [ 0.7467 -0.0185 -0.7328]\n",
      " [ 0.6457  0.3466  0.0904]]\n",
      "Eigenvectors of A trasnpose:\n",
      " [[ 0.5207  0.3971 -0.7558]\n",
      " [ 0.7392  0.2332  0.6318]\n",
      " [-0.4271  0.8877  0.1721]]\n",
      "Eigenvectors of B trasnpose:\n",
      " [[-0.16    0.7467  0.6457]\n",
      " [ 0.9378 -0.0185  0.3466]\n",
      " [-0.6744 -0.7328  0.0904]]\n"
     ]
    }
   ],
   "source": [
    "print('Question g')\n",
    "A = np.array([[1, -2, 2], [-2, 3, 2], [2, 2, -1]])\n",
    "B = np.array([[1, 2, -4], [-1, 5, 3], [-2, 2, 5]])\n",
    "print(\"Matrix A is square symmetric:\\n\",A)\n",
    "print('Matrix B is square non-symmetric:\\n',B)\n",
    "eigvals_A, eigvecs_A = np.linalg.eig(A)\n",
    "eigvals_B, eigvecs_B = np.linalg.eig(B)\n",
    "print('Eigenvalues of A\\n',np.round(eigvals_A,4))\n",
    "print('Eigenvector of A\\n',np.round(eigvecs_A,4))\n",
    "print('Eigenvalues of B\\n',np.round(eigvals_B,4))\n",
    "print('Eigenvector of B\\n',np.round(eigvecs_B,4))\n",
    "eigvals_A = np.diag(eigvals_A)\n",
    "eigvecs_AT = np.transpose(eigvecs_A)\n",
    "eigvals_B = np.diag(eigvals_B)\n",
    "eigvecs_BT = np.transpose(eigvecs_B)\n",
    "print('Eigenvectors of A trasnpose:\\n',np.round(eigvecs_AT,4))\n",
    "print('Eigenvectors of B trasnpose:\\n',np.round(eigvecs_BT,4))"
   ]
  },
  {
   "cell_type": "code",
   "execution_count": 15,
   "id": "23a10c78",
   "metadata": {},
   "outputs": [
    {
     "name": "stdout",
     "output_type": "stream",
     "text": [
      "Eigvec_A*Eigvals_A*T_Eigvecs_A=\n",
      " [[ 1. -2.  2.]\n",
      " [-2.  3.  2.]\n",
      " [ 2.  2. -1.]] = Matrix A\n"
     ]
    }
   ],
   "source": [
    "print('Eigvec_A*Eigvals_A*T_Eigvecs_A=\\n',np.dot(np.dot(eigvecs_A,eigvals_A),eigvecs_AT),'= Matrix A')"
   ]
  },
  {
   "cell_type": "code",
   "execution_count": 16,
   "id": "f767b942",
   "metadata": {},
   "outputs": [
    {
     "name": "stdout",
     "output_type": "stream",
     "text": [
      "Eigvec_B*Eigvals_B*T_Eigvecs_B=\n",
      " [[ 1.43164363  0.9093702  -1.20122888]\n",
      " [ 0.9093702   6.34500768  3.52196621]\n",
      " [-1.20122888  3.52196621  3.22334869]] != Matrix B\n"
     ]
    }
   ],
   "source": [
    "print('Eigvec_B*Eigvals_B*T_Eigvecs_B=\\n',np.dot(np.dot(eigvecs_B,eigvals_B),eigvecs_BT),'!= Matrix B')"
   ]
  },
  {
   "cell_type": "code",
   "execution_count": 17,
   "id": "3d4d9dd0",
   "metadata": {},
   "outputs": [
    {
     "name": "stdout",
     "output_type": "stream",
     "text": [
      "Question h\n",
      "PCA 1 =  [ 0.99815587 -0.06070307]  and PCA 2 =  [0.06070307 0.99815587]\n"
     ]
    },
    {
     "data": {
      "image/png": "[encoded data removed]",
      "text/plain": [
       "<Figure size 640x480 with 1 Axes>"
      ]
     },
     "metadata": {},
     "output_type": "display_data"
    }
   ],
   "source": [
    "print('Question h')\n",
    "import pandas as pd\n",
    "import seaborn as sns\n",
    "from sklearn.decomposition import PCA\n",
    "\n",
    "data = pd.read_csv('../HW2/winequality-red.csv',sep=';')\n",
    "red_pH = data.loc[:,'pH']\n",
    "red_TA = data.loc[:,'fixed acidity']\n",
    "red = np.array([red_TA,red_pH]).T\n",
    "\n",
    "pca = PCA(n_components=2)\n",
    "pca.fit(red)\n",
    "\n",
    "pca1 = pca.components_[0]\n",
    "pca2 = pca.components_[1]\n",
    "print('PCA 1 = ',pca1,' and PCA 2 = ',pca2)\n",
    "\n",
    "fig, ax = plt.subplots()\n",
    "ax.scatter(red_pH, red_TA, color='blue', label='Data points')\n",
    "ax.arrow(np.mean(red_pH), np.mean(red_TA), pca1[0]/3, pca1[1]/3, width=0.2, head_length=0.1, color='red', label='PC1')\n",
    "ax.arrow(np.mean(red_pH), np.mean(red_TA), pca2[0]*3, pca2[1]*3, width=0.05, head_length=0.3, color='green', linewidth=0.1, label='PC2')\n",
    "ax.set_xlabel('pH')\n",
    "ax.set_ylabel('Tartaric Acid')\n",
    "ax.legend()\n",
    "\n",
    "plt.show()"
   ]
  },
  {
   "cell_type": "code",
   "execution_count": 18,
   "id": "aa912e24",
   "metadata": {},
   "outputs": [
    {
     "name": "stdout",
     "output_type": "stream",
     "text": [
      "Question i\n",
      "The Rank of the matrix [Tartaric Acid, pH] is =  2\n"
     ]
    },
    {
     "data": {
      "image/png": "[encoded data removed]",
      "text/plain": [
       "<Figure size 640x480 with 1 Axes>"
      ]
     },
     "metadata": {},
     "output_type": "display_data"
    },
    {
     "name": "stdout",
     "output_type": "stream",
     "text": [
      "The k value must be 2 becuase a rank 1 matrix cannot express the data\n",
      "Values from .csv file:\n",
      " [[7.4  3.51]\n",
      " [7.8  3.2 ]\n",
      " [7.8  3.26]\n",
      " ...\n",
      " [6.3  3.42]\n",
      " [5.9  3.57]\n",
      " [6.   3.39]]\n",
      "Values from the approximation:\n",
      " [[7.4  3.51]\n",
      " [7.8  3.2 ]\n",
      " [7.8  3.26]\n",
      " ...\n",
      " [6.3  3.42]\n",
      " [5.9  3.57]\n",
      " [6.   3.39]]\n",
      "The output is the same since the rank of the matrix remained the same\n"
     ]
    }
   ],
   "source": [
    "print('Question i')\n",
    "print('The Rank of the matrix [Tartaric Acid, pH] is = ',np.linalg.matrix_rank(red))\n",
    "\n",
    "pca = PCA()\n",
    "pca.fit(red)\n",
    "\n",
    "plt.plot(np.arange(1, pca.n_components_+1), pca.explained_variance_ratio_, 'bo-')\n",
    "plt.xlabel('Number of components')\n",
    "plt.ylabel('Explained variance ratio')\n",
    "plt.show()\n",
    "print('The k value must be 2 becuase a rank 1 matrix cannot express the data')\n",
    "\n",
    "pca = PCA(n_components=2)\n",
    "red_lowr = pca.fit_transform(red)\n",
    "red_approx = pca.inverse_transform(red_lowr)\n",
    "\n",
    "print('Values from .csv file:\\n',red)\n",
    "print('Values from the approximation:\\n',red_approx)\n",
    "print('The output is the same since the rank of the matrix remained the same')"
   ]
  },
  {
   "cell_type": "code",
   "execution_count": null,
   "id": "603d2e50",
   "metadata": {},
   "outputs": [],
   "source": []
  }
 ],
 "metadata": {
  "kernelspec": {
   "display_name": "Python 3 (ipykernel)",
   "language": "python",
   "name": "python3"
  },
  "language_info": {
   "codemirror_mode": {
    "name": "ipython",
    "version": 3
   },
   "file_extension": ".py",
   "mimetype": "text/x-python",
   "name": "python",
   "nbconvert_exporter": "python",
   "pygments_lexer": "ipython3",
   "version": "3.9.13"
  }
 },
 "nbformat": 4,
 "nbformat_minor": 5
}
